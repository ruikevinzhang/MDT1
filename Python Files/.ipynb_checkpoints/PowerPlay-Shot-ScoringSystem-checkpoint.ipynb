{
 "cells": [
  {
   "cell_type": "code",
   "execution_count": 7,
   "metadata": {},
   "outputs": [],
   "source": [
    "import numpy as np\n",
    "import pandas as pd\n",
    "import matplotlib.pyplot as plt\n",
    "import math\n",
    "\n",
    "\n",
    "\n",
    "df = pd.read_csv('Rotman MMA Summer Datathon.csv')\n",
    "#filtering for data for women only\n",
    "women_data = df[df['team_name'].str.contains(\"Women\") & df['team_name'].str.contains(\"Canada\")]\n",
    "#women_data.head()\n",
    "#women_data.columns\n",
    "\n",
    "def div_safe(x,y):\n",
    "    try:\n",
    "        return x/y\n",
    "    except ZeroDivisionError:\n",
    "        return 0\n",
    "    \n",
    "#def cal_Distance(x1,y1,x2,y2):\n",
    "    #return round(math.sqrt((x2-x1)**2+(y2-y1)**2),2)"
   ]
  },
  {
   "cell_type": "code",
   "execution_count": 8,
   "metadata": {},
   "outputs": [
    {
     "name": "stdout",
     "output_type": "stream",
     "text": [
      "All Power Play shot:  {}\n",
      "------------------------------------------------------------\n",
      "Shot Success Rate:  {}\n"
     ]
    }
   ],
   "source": [
    "#-----------------------------------  Power Play Shot Types  ------------------------------------------\n",
    "\n",
    "# {name : [count of successful shot, total shot count, long distance shot count , short distance shot count]}\n",
    "power_ShotCounts = dict()\n",
    "# {name : [shot success rate]}\n",
    "power_ShotStats = dict()\n",
    "\n",
    "for i , j in women_data.iterrows():\n",
    "    #target features\n",
    "    name = women_data.loc[i]['player_name']\n",
    "    situation = women_data.loc[i]['situation_type']\n",
    "    event = women_data.loc[i]['event_type']\n",
    "    success = women_data.loc[i]['event_successful']\n",
    "    shot = women_data.loc[i]['shot_type']\n",
    "    \n",
    "    if event == 'shot':\n",
    "        if situation == '5 on 4' or situation == '5 on 3' or situation == '4 on 3' or situation == '6 on 5' or situation == '6 on 4':\n",
    "            if name not in power_ShotCounts:\n",
    "                power_ShotCounts[name] = [0,0,0,0]\n",
    "                \n",
    "            power_ShotCounts[name][1] = power_ShotCounts[name][1]+1\n",
    "            \n",
    "            if success == 't':\n",
    "                power_ShotCounts[name][0] == power_ShotCounts[name][0]+1\n",
    "                \n",
    "                if shot == 'Snapshot' and shot == 'Slapshot' and shot == 'Wristshot':\n",
    "                    power_ShotCounts[name][2] == power_ShotCounts[name][2]+1\n",
    "                \n",
    "                if shot == 'Wrap Around' and shot == 'Deflection':\n",
    "                    power_ShotCounts[name][3] == power_ShotCounts[name][3]+1\n",
    "    \n",
    "for name,value in power_ShotCounts.items():\n",
    "    #shot success rate\n",
    "    power_ShotStats[name] = []\n",
    "    power_ShotStats[name].append(div_safe(value[0],value[1]))\n",
    "    \n",
    "print (\"All Power Play shot: \", power_ShotCounts)\n",
    "print (\"------------------------------------------------------------\")\n",
    "print (\"Shot Success Rate: \", power_ShotStats)\n",
    "    \n",
    "#Count the total number of shots made by players that were successful\n",
    "#Count the total number of shots made by players\n",
    "#Count shot types including snapshot, slapshot, and wristshot (long distance shot)\n",
    "#Count shot types including wraparound and deflection (short distance shot)\n",
    "#Calculate the success rate of shot = number of successful shots/number of total shots"
   ]
  },
  {
   "cell_type": "code",
   "execution_count": null,
   "metadata": {},
   "outputs": [],
   "source": [
    "\n"
   ]
  }
 ],
 "metadata": {
  "kernelspec": {
   "display_name": "Python 3",
   "language": "python",
   "name": "python3"
  },
  "language_info": {
   "codemirror_mode": {
    "name": "ipython",
    "version": 3
   },
   "file_extension": ".py",
   "mimetype": "text/x-python",
   "name": "python",
   "nbconvert_exporter": "python",
   "pygments_lexer": "ipython3",
   "version": "3.7.4"
  }
 },
 "nbformat": 4,
 "nbformat_minor": 2
}
