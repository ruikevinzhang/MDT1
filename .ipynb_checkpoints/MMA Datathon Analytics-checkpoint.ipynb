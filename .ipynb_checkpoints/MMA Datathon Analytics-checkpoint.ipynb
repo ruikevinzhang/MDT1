{
 "cells": [
  {
   "cell_type": "code",
   "execution_count": 2,
   "metadata": {},
   "outputs": [],
   "source": [
    "import numpy as np\n",
    "import pandas as pd\n",
    "\n",
    "df = pd.read_csv('Rotman MMA Summer Datathon.csv')\n",
    "#filtering for data for women only\n",
    "women_data = df[df['team_name'].str.contains(\"Women\")]\n",
    "#women_data.head()\n",
    "#women_data.columns\n",
    "\n"
   ]
  },
  {
   "cell_type": "code",
   "execution_count": 21,
   "metadata": {},
   "outputs": [
    {
     "name": "stdout",
     "output_type": "stream",
     "text": [
      "[('Brianne Jenner', [1.0, 102, 102]), ('Marie-Philip Poulin', [1.0, 80, 80]), ('Brianna Decker', [1.0, 68, 68]), ('Emily Clark', [1.0, 52, 52]), ('Blayre Turnbull', [1.0, 51, 51]), ('Melodie Daoust', [1.0, 48, 48]), ('Hannah Brandt', [1.0, 40, 40]), ('Kelly Pannek', [1.0, 34, 34]), ('Alex Carpenter', [1.0, 33, 33]), ('Riikka Sallinen', [1.0, 28, 28]), ('Linda Valimaki', [1.0, 25, 25]), ('Gigi Marvin', [1.0, 10, 10]), ('Tanja Niskanen', [1.0, 9, 9]), ('Yelena Dergachyova', [1.0, 8, 8]), ('Victoria Bach', [1.0, 8, 8]), ('Lyudmila Belyakova', [1.0, 7, 7]), ('Yevgenia Dyupina', [1.0, 7, 7]), ('Noora Tulus', [1.0, 7, 7]), ('Susanna Tapani', [1.0, 6, 6]), ('Haley Irwin', [1.0, 5, 5]), ('Dani Cameranesi', [1.0, 5, 5]), ('Hilary Knight', [1.0, 5, 5]), ('Dana Trivigno', [1.0, 5, 5]), ('Jennifer Wakefield', [1.0, 4, 4]), ('Jesse Compher', [1.0, 4, 4]), ('Olga Sosina', [1.0, 3, 3]), ('Hayley Scamurra', [1.0, 3, 3]), ('Sarah Nurse', [1.0, 2, 2]), ('Sara Sakkinen', [1.0, 2, 2]), ('Sydney Brodt', [1.0, 2, 2]), ('Valeria Pavlova', [1.0, 1, 1]), ('Bailey Bram', [1.0, 1, 1]), ('Jillian Saulnier', [1.0, 1, 1]), ('Anna Shokhina', [1.0, 1, 1]), ('Minnamari Tuominen', [1.0, 1, 1]), ('Petra Nieminen', [1.0, 1, 1]), ('Loren Gabel', [1.0, 1, 1])]\n",
      "-------------\n",
      "[('Sydney Brodt', [1.0, 8, 8]), ('Sara Sakkinen', [1.0, 3, 3]), ('Hayley Scamurra', [0.8478260869565217, 39, 46]), ('Tanja Niskanen', [0.8333333333333334, 15, 18]), ('Jesse Compher', [0.8333333333333334, 15, 18]), ('Petra Nieminen', [0.8125, 26, 32]), ('Brianna Decker', [0.808695652173913, 186, 230]), ('Noora Tulus', [0.8085106382978723, 38, 47]), ('Marie-Philip Poulin', [0.8048780487804879, 231, 287]), ('Hilary Knight', [0.8, 144, 180]), ('Kelly Pannek', [0.7938144329896907, 77, 97]), ('Loren Gabel', [0.7727272727272727, 34, 44]), ('Melodie Daoust', [0.7676767676767676, 152, 198]), ('Minnamari Tuominen', [0.7466666666666667, 56, 75]), ('Haley Irwin', [0.7391304347826086, 51, 69]), ('Riikka Sallinen', [0.7358490566037735, 39, 53]), ('Jillian Saulnier', [0.7264957264957265, 85, 117]), ('Susanna Tapani', [0.7209302325581395, 62, 86]), ('Alex Carpenter', [0.7075471698113207, 75, 106]), ('Blayre Turnbull', [0.706766917293233, 94, 133]), ('Valeria Pavlova', [0.7, 14, 20]), ('Gigi Marvin', [0.6857142857142857, 24, 35]), ('Brianne Jenner', [0.684931506849315, 150, 219]), ('Sarah Nurse', [0.6666666666666666, 88, 132]), ('Dana Trivigno', [0.6666666666666666, 12, 18]), ('Hannah Brandt', [0.66, 99, 150]), ('Linda Valimaki', [0.6521739130434783, 15, 23]), ('Emily Clark', [0.6494845360824743, 63, 97]), ('Dani Cameranesi', [0.6402439024390244, 105, 164]), ('Yevgenia Dyupina', [0.625, 5, 8]), ('Jennifer Wakefield', [0.6153846153846154, 32, 52]), ('Yelena Dergachyova', [0.59375, 19, 32]), ('Lyudmila Belyakova', [0.5263157894736842, 10, 19]), ('Olga Sosina', [0.5151515151515151, 17, 33]), ('Bailey Bram', [0.5, 3, 6]), ('Anna Shokhina', [0.45454545454545453, 15, 33]), ('Victoria Bach', [0.38461538461538464, 10, 26])]\n",
      "-------------\n",
      "[('Marie-Philip Poulin', [1.0, 32, 32]), ('Brianna Decker', [1.0, 30, 30]), ('Brianne Jenner', [1.0, 28, 28]), ('Blayre Turnbull', [1.0, 16, 16]), ('Jillian Saulnier', [1.0, 15, 15]), ('Emily Clark', [1.0, 14, 14]), ('Sarah Nurse', [1.0, 14, 14]), ('Dani Cameranesi', [1.0, 12, 12]), ('Hannah Brandt', [1.0, 12, 12]), ('Melodie Daoust', [1.0, 11, 11]), ('Susanna Tapani', [1.0, 10, 10]), ('Petra Nieminen', [1.0, 10, 10]), ('Linda Valimaki', [1.0, 9, 9]), ('Victoria Bach', [1.0, 9, 9]), ('Kelly Pannek', [1.0, 8, 8]), ('Alex Carpenter', [1.0, 8, 8]), ('Hayley Scamurra', [1.0, 7, 7]), ('Hilary Knight', [1.0, 6, 6]), ('Jennifer Wakefield', [1.0, 5, 5]), ('Anna Shokhina', [1.0, 5, 5]), ('Minnamari Tuominen', [1.0, 5, 5]), ('Riikka Sallinen', [1.0, 5, 5]), ('Yelena Dergachyova', [1.0, 4, 4]), ('Haley Irwin', [1.0, 4, 4]), ('Lyudmila Belyakova', [1.0, 3, 3]), ('Olga Sosina', [1.0, 3, 3]), ('Valeria Pavlova', [1.0, 3, 3]), ('Noora Tulus', [1.0, 3, 3]), ('Tanja Niskanen', [1.0, 3, 3]), ('Gigi Marvin', [1.0, 3, 3]), ('Jesse Compher', [1.0, 3, 3]), ('Sydney Brodt', [1.0, 3, 3]), ('Dana Trivigno', [1.0, 2, 2]), ('Loren Gabel', [1.0, 1, 1])]\n",
      "-------------\n",
      "[('Riikka Sallinen', [0.25, 1, 4]), ('Haley Irwin', [0.16666666666666666, 2, 12]), ('Susanna Tapani', [0.15384615384615385, 2, 13]), ('Melodie Daoust', [0.0967741935483871, 3, 31]), ('Marie-Philip Poulin', [0.09302325581395349, 4, 43]), ('Jennifer Wakefield', [0.07692307692307693, 2, 26]), ('Loren Gabel', [0.07692307692307693, 1, 13]), ('Emily Clark', [0.06666666666666667, 1, 15]), ('Hannah Brandt', [0.0625, 1, 16]), ('Hilary Knight', [0.058823529411764705, 3, 51]), ('Alex Carpenter', [0.058823529411764705, 1, 17]), ('Brianne Jenner', [0.05263157894736842, 3, 57]), ('Jillian Saulnier', [0.05263157894736842, 1, 19]), ('Blayre Turnbull', [0.05, 1, 20]), ('Sarah Nurse', [0.044444444444444446, 2, 45]), ('Brianna Decker', [0.027777777777777776, 1, 36]), ('Dani Cameranesi', [0.0, 0, 23]), ('Minnamari Tuominen', [0.0, 0, 16]), ('Kelly Pannek', [0.0, 0, 16]), ('Valeria Pavlova', [0.0, 0, 12]), ('Hayley Scamurra', [0.0, 0, 11]), ('Olga Sosina', [0.0, 0, 10]), ('Petra Nieminen', [0.0, 0, 10]), ('Gigi Marvin', [0.0, 0, 8]), ('Lyudmila Belyakova', [0.0, 0, 6]), ('Tanja Niskanen', [0.0, 0, 6]), ('Victoria Bach', [0.0, 0, 6]), ('Sydney Brodt', [0.0, 0, 6]), ('Anna Shokhina', [0.0, 0, 5]), ('Noora Tulus', [0.0, 0, 5]), ('Jesse Compher', [0.0, 0, 5]), ('Linda Valimaki', [0.0, 0, 4]), ('Dana Trivigno', [0.0, 0, 4]), ('Yelena Dergachyova', [0.0, 0, 3]), ('Bailey Bram', [0.0, 0, 3]), ('Yevgenia Dyupina', [0.0, 0, 2]), ('Sara Sakkinen', [0.0, 0, 2])]\n"
     ]
    }
   ],
   "source": [
    "#nested dictionary\n",
    "names_AllEvents = dict()\n",
    "name_SuccessEvent = dict()\n",
    "name_SuccessEventRate = dict()\n",
    "#events_dic = dict()\n",
    "\n",
    "\n",
    "#i for index, j as content\n",
    "for i , j in women_data.iterrows():\n",
    "    name = women_data.loc[i]['player_name']\n",
    "    event = women_data.loc[i]['event_type']\n",
    "    success = women_data.loc[i]['event_successful']\n",
    "    if name not in names_AllEvents:\n",
    "        names_AllEvents[name] = {'Faceoff': 0, 'Play': 0, 'Takeaway': 0, 'Shot': 0}\n",
    "        name_SuccessEvent[name] = {'Faceoff': 0, 'Play': 0, 'Takeaway': 0, 'Shot': 0}\n",
    "    names_AllEvents[name][event] = names_AllEvents[name].get(event,0)+1\n",
    "    if success == 't':\n",
    "        name_SuccessEvent[name][event] = name_SuccessEvent[name].get(event,0)+1\n",
    "    \n",
    "    \n",
    "#     print(\"index: \", i)\n",
    "#     print(\"name: \",women_data.loc[i]['player_name'])\n",
    "#     print(\"type: \",women_data.loc[i]['event_type'])\n",
    "\n",
    "# print(names_AllEvents)\n",
    "# print (\"------\")\n",
    "# print (name_SuccessEvent)\n",
    "\n",
    "\n",
    "names_info = dict()\n",
    "faceoff_dict = dict()\n",
    "play_dict = dict()\n",
    "shot_dict = dict()\n",
    "takeaway_dict = dict()\n",
    "\n",
    "for name,value in names_AllEvents.items():\n",
    "    try:\n",
    "        faceoff_dict[name] =  [name_SuccessEvent[name]['Faceoff']/value['Faceoff'],name_SuccessEvent[name]['Faceoff'],value['Faceoff']]\n",
    "        play_dict[name] =  [name_SuccessEvent[name]['Play']/value['Play'],name_SuccessEvent[name]['Play'],value['Play']]\n",
    "        shot_dict[name] =  [name_SuccessEvent[name]['Shot']/value['Shot'],name_SuccessEvent[name]['Shot'],value['Shot']]\n",
    "        takeaway_dict[name] =  [name_SuccessEvent[name]['Takeaway']/value['Takeaway'],name_SuccessEvent[name]['Takeaway'],value['Takeaway']]\n",
    "    except ZeroDivisionError as err:\n",
    "        #print (name)\n",
    "        continue\n",
    "\n",
    "faceoff_dict= sorted(faceoff_dict.items(), key=lambda x: x[1],reverse = True)\n",
    "play_dict= sorted(play_dict.items(), key=lambda x: x[1],reverse = True)\n",
    "takeaway_dict= sorted(takeaway_dict.items(), key=lambda x: x[1],reverse = True)\n",
    "shot_dict= sorted(shot_dict.items(), key=lambda x: x[1],reverse = True)\n",
    "\n",
    "print (faceoff_dict)\n",
    "print (\"-------------\")\n",
    "print (play_dict)\n",
    "print (\"-------------\")\n",
    "print (takeaway_dict)\n",
    "print (\"-------------\")\n",
    "print (shot_dict)\n",
    "\n"
   ]
  },
  {
   "cell_type": "code",
   "execution_count": null,
   "metadata": {},
   "outputs": [],
   "source": []
  },
  {
   "cell_type": "code",
   "execution_count": null,
   "metadata": {},
   "outputs": [],
   "source": []
  },
  {
   "cell_type": "code",
   "execution_count": null,
   "metadata": {},
   "outputs": [],
   "source": []
  },
  {
   "cell_type": "code",
   "execution_count": null,
   "metadata": {},
   "outputs": [],
   "source": []
  }
 ],
 "metadata": {
  "kernelspec": {
   "display_name": "Python 3",
   "language": "python",
   "name": "python3"
  },
  "language_info": {
   "codemirror_mode": {
    "name": "ipython",
    "version": 3
   },
   "file_extension": ".py",
   "mimetype": "text/x-python",
   "name": "python",
   "nbconvert_exporter": "python",
   "pygments_lexer": "ipython3",
   "version": "3.7.4"
  }
 },
 "nbformat": 4,
 "nbformat_minor": 2
}
