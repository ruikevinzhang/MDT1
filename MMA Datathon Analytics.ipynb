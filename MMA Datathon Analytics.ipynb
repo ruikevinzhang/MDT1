{
 "cells": [
  {
   "cell_type": "code",
   "execution_count": 39,
   "metadata": {},
   "outputs": [],
   "source": [
    "import numpy as np\n",
    "import pandas as pd\n",
    "import matplotlib.pyplot as plt\n",
    "from math import pi\n",
    "\n",
    "\n",
    "df = pd.read_csv('Rotman MMA Summer Datathon.csv')\n",
    "#filtering for data for women only\n",
    "women_data = df[df['team_name'].str.contains(\"Women\") & df['team_name'].str.contains(\"Canada\")]\n",
    "#women_data.head()\n",
    "#women_data.columns\n",
    "\n",
    "def div_safe(x,y):\n",
    "    try:\n",
    "        return x/y\n",
    "    except ZeroDivisionError:\n",
    "        return 0\n",
    "\n"
   ]
  },
  {
   "cell_type": "code",
   "execution_count": 53,
   "metadata": {},
   "outputs": [
    {
     "name": "stdout",
     "output_type": "stream",
     "text": [
      "Performance Summary:  {'Emily Clark': [1.0, 0.6494845360824743, 1.0, 0.06666666666666667], 'Sarah Nurse': [1.0, 0.6666666666666666, 1.0, 0.044444444444444446], 'Meaghan Mikkelson': [0, 0.8283582089552238, 1.0, 0.0], 'Laura Stacey': [0, 0.7777777777777778, 1.0, 0.0], 'Marie-Philip Poulin': [1.0, 0.8048780487804879, 1.0, 0.09302325581395349], 'Renata Fast': [0, 0.6902985074626866, 1.0, 0.0], 'Melodie Daoust': [1.0, 0.7676767676767676, 1.0, 0.0967741935483871], 'Meghan Agosta': [0, 0.6833333333333333, 1.0, 0.046511627906976744], 'Brigette Lacquette': [0, 0.7819314641744548, 1.0, 0.0], 'Haley Irwin': [1.0, 0.7391304347826086, 1.0, 0.16666666666666666], 'Rebecca Johnston': [0, 0.7389830508474576, 1.0, 0.037037037037037035], 'Laura Fortino': [0, 0.7946210268948656, 1.0, 0.020833333333333332], 'Brianne Jenner': [1.0, 0.684931506849315, 1.0, 0.05263157894736842], 'Natalie Spooner': [0, 0.528169014084507, 1.0, 0.0], 'Ann-Renee Desbiens': [0, 0.8571428571428571, 0, 0], 'Jocelyne Larocque': [0, 0.7337883959044369, 1.0, 0.0], 'Bailey Bram': [1.0, 0.5, 0, 0.0], 'Lauriane Rougeau': [0, 0.8321167883211679, 1.0, 0.0], 'Jillian Saulnier': [1.0, 0.7264957264957265, 1.0, 0.05263157894736842], 'Jennifer Wakefield': [1.0, 0.6153846153846154, 1.0, 0.07692307692307693], 'Blayre Turnbull': [1.0, 0.706766917293233, 1.0, 0.05], 'Shannon Szabados': [0, 0.8846153846153846, 1.0, 0], 'Genevieve Lacasse': [0, 0.8421052631578947, 0, 0], 'Rebecca Leslie': [0, 0.5882352941176471, 1.0, 0.0], 'Erin Ambrose': [0, 0.8142076502732241, 1.0, 0.0], 'Halli Krzyzaniak': [0, 0.7833333333333333, 1.0, 0.0], 'Emerance Maschmeyer': [0, 0.88, 1.0, 0], 'Jamie Lee Rattray': [0, 0.6521739130434783, 1.0, 0.2222222222222222], 'Ann-Sophie Bettez': [0, 0.7340425531914894, 1.0, 0.0], 'Victoria Bach': [1.0, 0.38461538461538464, 1.0, 0.0], 'Katelyn Gosling': [0, 0.3333333333333333, 1.0, 0], 'Loren Gabel': [1.0, 0.7727272727272727, 1.0, 0.07692307692307693], 'Jamie Bourbonnais': [0, 0.5, 1.0, 0.0], 'Mich Zandee-Hart': [0, 0.6363636363636364, 0, 0.0]}\n",
      "-------------\n",
      "Faceoff:  [('Brianne Jenner', [1.0, 102, 102]), ('Marie-Philip Poulin', [1.0, 80, 80]), ('Emily Clark', [1.0, 52, 52]), ('Blayre Turnbull', [1.0, 51, 51]), ('Melodie Daoust', [1.0, 48, 48]), ('Victoria Bach', [1.0, 8, 8]), ('Haley Irwin', [1.0, 5, 5]), ('Jennifer Wakefield', [1.0, 4, 4]), ('Sarah Nurse', [1.0, 2, 2]), ('Bailey Bram', [1.0, 1, 1]), ('Jillian Saulnier', [1.0, 1, 1]), ('Loren Gabel', [1.0, 1, 1]), ('Meaghan Mikkelson', [0, 0, 0]), ('Laura Stacey', [0, 0, 0]), ('Renata Fast', [0, 0, 0]), ('Meghan Agosta', [0, 0, 0]), ('Brigette Lacquette', [0, 0, 0]), ('Rebecca Johnston', [0, 0, 0]), ('Laura Fortino', [0, 0, 0]), ('Natalie Spooner', [0, 0, 0]), ('Ann-Renee Desbiens', [0, 0, 0]), ('Jocelyne Larocque', [0, 0, 0]), ('Lauriane Rougeau', [0, 0, 0]), ('Shannon Szabados', [0, 0, 0]), ('Genevieve Lacasse', [0, 0, 0]), ('Rebecca Leslie', [0, 0, 0]), ('Erin Ambrose', [0, 0, 0]), ('Halli Krzyzaniak', [0, 0, 0]), ('Emerance Maschmeyer', [0, 0, 0]), ('Jamie Lee Rattray', [0, 0, 0]), ('Ann-Sophie Bettez', [0, 0, 0]), ('Katelyn Gosling', [0, 0, 0]), ('Jamie Bourbonnais', [0, 0, 0]), ('Mich Zandee-Hart', [0, 0, 0])]\n",
      "-------------\n",
      "Play:  [('Shannon Szabados', [0.8846153846153846, 69, 78]), ('Emerance Maschmeyer', [0.88, 22, 25]), ('Ann-Renee Desbiens', [0.8571428571428571, 12, 14]), ('Genevieve Lacasse', [0.8421052631578947, 16, 19]), ('Lauriane Rougeau', [0.8321167883211679, 114, 137]), ('Meaghan Mikkelson', [0.8283582089552238, 111, 134]), ('Erin Ambrose', [0.8142076502732241, 149, 183]), ('Marie-Philip Poulin', [0.8048780487804879, 231, 287]), ('Laura Fortino', [0.7946210268948656, 325, 409]), ('Halli Krzyzaniak', [0.7833333333333333, 47, 60]), ('Brigette Lacquette', [0.7819314641744548, 251, 321]), ('Laura Stacey', [0.7777777777777778, 63, 81]), ('Loren Gabel', [0.7727272727272727, 34, 44]), ('Melodie Daoust', [0.7676767676767676, 152, 198]), ('Haley Irwin', [0.7391304347826086, 51, 69]), ('Rebecca Johnston', [0.7389830508474576, 218, 295]), ('Ann-Sophie Bettez', [0.7340425531914894, 69, 94]), ('Jocelyne Larocque', [0.7337883959044369, 215, 293]), ('Jillian Saulnier', [0.7264957264957265, 85, 117]), ('Blayre Turnbull', [0.706766917293233, 94, 133]), ('Renata Fast', [0.6902985074626866, 185, 268]), ('Brianne Jenner', [0.684931506849315, 150, 219]), ('Meghan Agosta', [0.6833333333333333, 82, 120]), ('Sarah Nurse', [0.6666666666666666, 88, 132]), ('Jamie Lee Rattray', [0.6521739130434783, 30, 46]), ('Emily Clark', [0.6494845360824743, 63, 97]), ('Mich Zandee-Hart', [0.6363636363636364, 21, 33]), ('Jennifer Wakefield', [0.6153846153846154, 32, 52]), ('Rebecca Leslie', [0.5882352941176471, 20, 34]), ('Natalie Spooner', [0.528169014084507, 75, 142]), ('Jamie Bourbonnais', [0.5, 5, 10]), ('Bailey Bram', [0.5, 3, 6]), ('Victoria Bach', [0.38461538461538464, 10, 26]), ('Katelyn Gosling', [0.3333333333333333, 1, 3])]\n",
      "-------------\n",
      "Takeawy:  [('Marie-Philip Poulin', [1.0, 32, 32]), ('Brianne Jenner', [1.0, 28, 28]), ('Renata Fast', [1.0, 27, 27]), ('Laura Fortino', [1.0, 26, 26]), ('Natalie Spooner', [1.0, 23, 23]), ('Jocelyne Larocque', [1.0, 22, 22]), ('Brigette Lacquette', [1.0, 20, 20]), ('Rebecca Johnston', [1.0, 16, 16]), ('Blayre Turnbull', [1.0, 16, 16]), ('Jillian Saulnier', [1.0, 15, 15]), ('Emily Clark', [1.0, 14, 14]), ('Sarah Nurse', [1.0, 14, 14]), ('Laura Stacey', [1.0, 13, 13]), ('Meghan Agosta', [1.0, 12, 12]), ('Melodie Daoust', [1.0, 11, 11]), ('Ann-Sophie Bettez', [1.0, 10, 10]), ('Erin Ambrose', [1.0, 9, 9]), ('Victoria Bach', [1.0, 9, 9]), ('Halli Krzyzaniak', [1.0, 8, 8]), ('Meaghan Mikkelson', [1.0, 7, 7]), ('Jamie Lee Rattray', [1.0, 7, 7]), ('Lauriane Rougeau', [1.0, 6, 6]), ('Jennifer Wakefield', [1.0, 5, 5]), ('Rebecca Leslie', [1.0, 5, 5]), ('Haley Irwin', [1.0, 4, 4]), ('Shannon Szabados', [1.0, 4, 4]), ('Emerance Maschmeyer', [1.0, 1, 1]), ('Katelyn Gosling', [1.0, 1, 1]), ('Loren Gabel', [1.0, 1, 1]), ('Jamie Bourbonnais', [1.0, 1, 1]), ('Ann-Renee Desbiens', [0, 0, 0]), ('Bailey Bram', [0, 0, 0]), ('Genevieve Lacasse', [0, 0, 0]), ('Mich Zandee-Hart', [0, 0, 0])]\n",
      "-------------\n",
      "Shot:  [('Jamie Lee Rattray', [0.2222222222222222, 2, 9]), ('Haley Irwin', [0.16666666666666666, 2, 12]), ('Melodie Daoust', [0.0967741935483871, 3, 31]), ('Marie-Philip Poulin', [0.09302325581395349, 4, 43]), ('Jennifer Wakefield', [0.07692307692307693, 2, 26]), ('Loren Gabel', [0.07692307692307693, 1, 13]), ('Emily Clark', [0.06666666666666667, 1, 15]), ('Brianne Jenner', [0.05263157894736842, 3, 57]), ('Jillian Saulnier', [0.05263157894736842, 1, 19]), ('Blayre Turnbull', [0.05, 1, 20]), ('Meghan Agosta', [0.046511627906976744, 2, 43]), ('Sarah Nurse', [0.044444444444444446, 2, 45]), ('Rebecca Johnston', [0.037037037037037035, 3, 81]), ('Laura Fortino', [0.020833333333333332, 1, 48]), ('Brigette Lacquette', [0.0, 0, 56]), ('Natalie Spooner', [0.0, 0, 43]), ('Erin Ambrose', [0.0, 0, 28]), ('Laura Stacey', [0.0, 0, 26]), ('Jocelyne Larocque', [0.0, 0, 25]), ('Renata Fast', [0.0, 0, 22]), ('Ann-Sophie Bettez', [0.0, 0, 12]), ('Meaghan Mikkelson', [0.0, 0, 11]), ('Halli Krzyzaniak', [0.0, 0, 11]), ('Victoria Bach', [0.0, 0, 6]), ('Lauriane Rougeau', [0.0, 0, 5]), ('Mich Zandee-Hart', [0.0, 0, 5]), ('Bailey Bram', [0.0, 0, 3]), ('Rebecca Leslie', [0.0, 0, 3]), ('Jamie Bourbonnais', [0.0, 0, 1]), ('Ann-Renee Desbiens', [0, 0, 0]), ('Shannon Szabados', [0, 0, 0]), ('Genevieve Lacasse', [0, 0, 0]), ('Emerance Maschmeyer', [0, 0, 0]), ('Katelyn Gosling', [0, 0, 0])]\n"
     ]
    }
   ],
   "source": [
    "#----------------------------Event Type Specialist Selection----------------------------\n",
    "\n",
    "# Description: The coaches would like to select five top players.  \n",
    "# The players should, ideally, excel in all areas of the game.  \n",
    "# Since scoring goals is the ultimate objective, at least three \n",
    "# should be excellent goal scorers and at least two should be excellent passers.  \n",
    "# In addition, you need at least two faceoff specialists and one takeaway specialist.  \n",
    "# It would be especially beneficial if the passers were familiar with the shooting specialists \n",
    "# (i.e., had a good track record of completing passes to these players). \n",
    "\n",
    "#nested dictionary\n",
    "names_AllEvents = dict()\n",
    "name_SuccessEvent = dict()\n",
    "name_SuccessEventRate = dict()\n",
    "#events_dic = dict()\n",
    "\n",
    "\n",
    "#i for index, j as content\n",
    "for i , j in women_data.iterrows():\n",
    "    # field of interest\n",
    "    name = women_data.loc[i]['player_name']\n",
    "    event = women_data.loc[i]['event_type']\n",
    "    success = women_data.loc[i]['event_successful']\n",
    "    if name not in names_AllEvents:\n",
    "        names_AllEvents[name] = {'Faceoff': 0, 'Play': 0, 'Takeaway': 0, 'Shot': 0}\n",
    "        name_SuccessEvent[name] = {'Faceoff': 0, 'Play': 0, 'Takeaway': 0, 'Shot': 0}\n",
    "    names_AllEvents[name][event] = names_AllEvents[name].get(event,0)+1\n",
    "    if success == 't':\n",
    "        name_SuccessEvent[name][event] = name_SuccessEvent[name].get(event,0)+1\n",
    "    \n",
    "    \n",
    "\n",
    "\n",
    "name_performance = dict()\n",
    "faceoff_dict = dict()\n",
    "play_dict = dict()\n",
    "shot_dict = dict()\n",
    "takeaway_dict = dict()\n",
    "\n",
    "for name,value in names_AllEvents.items():\n",
    "    faceoff_dict[name] =  [div_safe(name_SuccessEvent[name]['Faceoff'],value['Faceoff']),name_SuccessEvent[name]['Faceoff'],value['Faceoff']]\n",
    "    play_dict[name] =  [div_safe(name_SuccessEvent[name]['Play'],value['Play']),name_SuccessEvent[name]['Play'],value['Play']]\n",
    "    takeaway_dict[name] =  [div_safe(name_SuccessEvent[name]['Takeaway'],value['Takeaway']),name_SuccessEvent[name]['Takeaway'],value['Takeaway']]   \n",
    "    shot_dict[name] =  [div_safe(name_SuccessEvent[name]['Shot'],value['Shot']),name_SuccessEvent[name]['Shot'],value['Shot']]\n",
    "    name_performance[name] = [faceoff_dict[name][0],play_dict[name][0],takeaway_dict[name][0],shot_dict[name][0]]\n",
    "\n",
    "\n",
    "faceoff_dict= sorted(faceoff_dict.items(), key=lambda x: x[1],reverse = True)\n",
    "play_dict= sorted(play_dict.items(), key=lambda x: x[1],reverse = True)\n",
    "takeaway_dict= sorted(takeaway_dict.items(), key=lambda x: x[1],reverse = True)\n",
    "shot_dict= sorted(shot_dict.items(), key=lambda x: x[1],reverse = True)\n",
    "\n",
    "print (\"Performance Summary: \", name_performance)\n",
    "print (\"-------------\")\n",
    "print (\"Faceoff: \", faceoff_dict)\n",
    "print (\"-------------\")\n",
    "print (\"Play: \", play_dict)\n",
    "print (\"-------------\")\n",
    "print (\"Takeawy: \", takeaway_dict)\n",
    "print (\"-------------\")\n",
    "print (\"Shot: \", shot_dict)\n",
    " \n"
   ]
  },
  {
   "cell_type": "code",
   "execution_count": 20,
   "metadata": {},
   "outputs": [
    {
     "name": "stdout",
     "output_type": "stream",
     "text": [
      "Penalty Play:  [('Jillian Saulnier', [1.0, 1.0]), ('Rebecca Johnston', [1.0, 1.0]), ('Halli Krzyzaniak', [1.0, 1.0]), ('Jocelyne Larocque', [0.6666666666666666, 1.0]), ('Laura Stacey', [0.6666666666666666, 1.0]), ('Marie-Philip Poulin', [0.6666666666666666, 1.0]), ('Erin Ambrose', [0.6666666666666666, 1.0]), ('Blayre Turnbull', [0.6, 1.0]), ('Laura Fortino', [0.6, 1.0]), ('Renata Fast', [0.5384615384615384, 1.0]), ('Natalie Spooner', [0.5, 1.0]), ('Emily Clark', [0.4, 1.0]), ('Brianne Jenner', [0.0, 1.0]), ('Brigette Lacquette', [0.0, 1.0])]\n",
      "-------------\n",
      "Power Play:  [('Brianne Jenner', [0.8055555555555556, 0.16666666666666666]), ('Haley Irwin', [0.8205128205128205, 0.14285714285714285]), ('Sarah Nurse', [0.8285714285714286, 0.09090909090909091]), ('Meghan Agosta', [0.8648648648648649, 0.08333333333333333]), ('Rebecca Johnston', [0.7735849056603774, 0.058823529411764705]), ('Laura Fortino', [0.8740157480314961, 0.05263157894736842]), ('Melodie Daoust', [0.8909090909090909, 0.0]), ('Marie-Philip Poulin', [0.8947368421052632, 0.0]), ('Brigette Lacquette', [0.8739495798319328, 0.0]), ('Natalie Spooner', [0.6486486486486487, 0.0]), ('Jennifer Wakefield', [0.7647058823529411, 0.0]), ('Lauriane Rougeau', [1.0, 0.0]), ('Laura Stacey', [1.0, 0.0]), ('Emily Clark', [0.8333333333333334, 0.0]), ('Meaghan Mikkelson', [0.8333333333333334, 0.0]), ('Jocelyne Larocque', [0.9333333333333333, 0.0]), ('Renata Fast', [0.88, 0.0]), ('Erin Ambrose', [0.8275862068965517, 0.0]), ('Ann-Sophie Bettez', [0.9230769230769231, 0.0]), ('Halli Krzyzaniak', [0.0, 0.0]), ('Blayre Turnbull', [0.8571428571428571, 0.0]), ('Jillian Saulnier', [0.8, 0.0]), ('Loren Gabel', [0.8888888888888888, 0.0])]\n"
     ]
    }
   ],
   "source": [
    "#----------------------------Event Type Specialist Selection----------------------------\n",
    "# The coaches would like to select five power play specialists and four penalty kill specialists.  \n",
    "# Note that the main objective of the power play is to score goals, while the main objective of \n",
    "# the penalty kill is to prevent the opponent from doing so.  \n",
    "# Thus, the key skills for a penalty killer are takeaways and precise passes.  \n",
    "# For a power play specialist the key skills are successful shots and precise passes.\n",
    "\n",
    "\n",
    "#penalty kill -> 4 on 5\n",
    "#power play -> 5 on 4\n",
    "\n",
    "penalty_EventCount = dict()\n",
    "penalty_SuccessEvent = dict()\n",
    "power_EventCount = dict()\n",
    "power_SuccessEvent = dict()\n",
    "\n",
    "\n",
    "for i , j in women_data.iterrows():\n",
    "    # field of interest\n",
    "    name = women_data.loc[i]['player_name']\n",
    "    situation = women_data.loc[i]['situation_type']\n",
    "    event = women_data.loc[i]['event_type']\n",
    "    success = women_data.loc[i]['event_successful']\n",
    "    # seperate penalty and power play\n",
    "    if situation == '4 on 5' or situation == '3 on 5':        \n",
    "        if name not in penalty_EventCount:\n",
    "            penalty_EventCount[name] = {'Play': 0, 'Takeaway': 0}\n",
    "            penalty_SuccessEvent[name] = {'Play': 0, 'Takeaway': 0}\n",
    "        #only care about the two event\n",
    "        if event in penalty_EventCount[name]:\n",
    "            penalty_EventCount[name][event] = penalty_EventCount[name].get(event,0)+1\n",
    "            if success == 't':\n",
    "                penalty_SuccessEvent[name][event] = penalty_SuccessEvent[name].get(event,0)+1\n",
    "    elif situation == '5 on 4' or situation == '5 on 3' :\n",
    "        if name not in power_EventCount:\n",
    "            power_EventCount[name] = {'Play': 0, 'Shot': 0}\n",
    "            power_SuccessEvent[name] = {'Play': 0, 'Shot': 0}\n",
    "        #only care about the two event\n",
    "        if event in power_EventCount[name]:\n",
    "            power_EventCount[name][event] = power_EventCount[name].get(event,0)+1\n",
    "            if success == 't':\n",
    "                power_SuccessEvent[name][event] = power_SuccessEvent[name].get(event,0)+1\n",
    "\n",
    "# print (\"All Penalty: \", penalty_EventCount)\n",
    "# print (\"------------------------\")\n",
    "# print (\"Success Penalty: \", penalty_SuccessEvent)\n",
    "# print (\"------------------------\")\n",
    "# print (\"All Penalty: \", power_EventCount)\n",
    "# print (\"Success Penalty: \", power_SuccessEvent)\n",
    "\n",
    "penalty_rate = dict()\n",
    "power_rate = dict()\n",
    "\n",
    "\n",
    "for name,value in penalty_EventCount.items():\n",
    "    try:\n",
    "        penalty_rate[name] =  [penalty_SuccessEvent[name]['Play']/value['Play'],penalty_SuccessEvent[name]['Takeaway']/value['Takeaway']]\n",
    "    except ZeroDivisionError as err:\n",
    "        continue\n",
    "        \n",
    "for name,value in power_EventCount.items():\n",
    "    try:\n",
    "        power_rate[name] =  [power_SuccessEvent[name]['Play']/value['Play'],power_SuccessEvent[name]['Shot']/value['Shot']]\n",
    "    except ZeroDivisionError as err:\n",
    "        continue\n",
    "\n",
    "penalty_rate= sorted(penalty_rate.items(), key=lambda x: x[1],reverse = True)\n",
    "power_rate= sorted(power_rate.items(), key=lambda x: x[1][1],reverse = True)\n",
    "\n",
    "#penalty rate: (name, [rate success of play, rate success of Takeaway])\n",
    "#power rate: (name, [rate success of play, rate success of Shot])\n",
    "\n",
    "print (\"Penalty Play: \", penalty_rate)\n",
    "print (\"-------------\")\n",
    "print (\"Power Play: \", power_rate)\n"
   ]
  },
  {
   "cell_type": "code",
   "execution_count": 69,
   "metadata": {},
   "outputs": [
    {
     "name": "stdout",
     "output_type": "stream",
     "text": [
      "['Faceoff', 'Play', 'Takeaway', 'Shot']\n",
      "4\n",
      "[1.0, 0.6494845360824743, 1.0, 0.06666666666666667, 1.0]\n",
      "5\n",
      "[0.0, 1.5707963267948966, 3.141592653589793, 4.71238898038469, 0.0]\n",
      "5\n"
     ]
    },
    {
     "data": {
      "text/plain": [
       "[<matplotlib.patches.Polygon at 0x121eb881cc8>]"
      ]
     },
     "execution_count": 69,
     "metadata": {},
     "output_type": "execute_result"
    },
    {
     "data": {
      "image/png": "[encoded data removed]",
      "text/plain": [
       "<Figure size 432x288 with 1 Axes>"
      ]
     },
     "metadata": {
      "needs_background": "dark"
     },
     "output_type": "display_data"
    }
   ],
   "source": [
    "# number of variable\n",
    "categories=[\"Faceoff\", \"Play\", \"Takeaway\", \"Shot\"]\n",
    "N = len(categories)\n",
    "print(categories)\n",
    "print (N)\n",
    " \n",
    "# We are going to plot the first line of the data frame.\n",
    "# But we need to repeat the first value to close the circular graph:\n",
    "\n",
    "# for name, value in name_performance.items():\n",
    "#     print (value)\n",
    "name = 'Emily Clark'\n",
    "values = name_performance[name]\n",
    "values += values[:1]\n",
    "print (values)\n",
    "print (len(values))\n",
    " \n",
    "# What will be the angle of each axis in the plot? (we divide the plot / number of variable)\n",
    "angles = [n / float(N) * 2 * pi for n in range(N)]\n",
    "angles += angles[:1]\n",
    "\n",
    "print (angles)\n",
    "print (len(angles))\n",
    " \n",
    "# Initialise the spider plot\n",
    "ax = plt.subplot(111, polar=True)\n",
    " \n",
    "# Draw one axe per variable + add labels labels yet\n",
    "plt.xticks(angles[:-1], categories, color='grey', size=8)\n",
    " \n",
    "# Draw ylabels\n",
    "ax.set_rlabel_position(0)\n",
    "plt.yticks([0.2,0.5,1], [\"0.2\",\"0.5\",\"1\"], color=\"grey\", size=7)\n",
    "plt.ylim(0,1)\n",
    " \n",
    "# Plot data\n",
    "ax.plot(angles, values, linewidth=1, linestyle='solid')\n",
    " \n",
    "# Fill area\n",
    "ax.fill(angles, values, 'b', alpha=0.1)\n"
   ]
  },
  {
   "cell_type": "code",
   "execution_count": null,
   "metadata": {},
   "outputs": [],
   "source": []
  },
  {
   "cell_type": "code",
   "execution_count": null,
   "metadata": {},
   "outputs": [],
   "source": []
  }
 ],
 "metadata": {
  "kernelspec": {
   "display_name": "Python 3",
   "language": "python",
   "name": "python3"
  },
  "language_info": {
   "codemirror_mode": {
    "name": "ipython",
    "version": 3
   },
   "file_extension": ".py",
   "mimetype": "text/x-python",
   "name": "python",
   "nbconvert_exporter": "python",
   "pygments_lexer": "ipython3",
   "version": "3.7.4"
  }
 },
 "nbformat": 4,
 "nbformat_minor": 2
}
